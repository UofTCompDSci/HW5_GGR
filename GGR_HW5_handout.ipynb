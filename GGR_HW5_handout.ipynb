{
 "cells": [
  {
   "cell_type": "markdown",
   "id": "767c66e9",
   "metadata": {},
   "source": [
    "# Homework 5 - Summary statistics, Histograms and Boxplots\n"
   ]
  },
  {
   "cell_type": "markdown",
   "id": "4c621ab2",
   "metadata": {},
   "source": [
    "# Introduction\n",
    "\n",
    "For this week's homework, we're going to continue to work with the Statistics Canada GSS Time Use Dataset. We'll aim to understand how respondents' sleep duration per night varies within the Canadian population. We'll also focus our analysis on contrasting how sleep durations differ between the subgroup of respondents who feel that they tend to reduce their sleep, and those who do not.\n",
    "\n",
    "# Question\n",
    "\n",
    "**_Is there a difference in the amount of time slept between those who feel that they purposely reduce sleep, compared to those who do not?_**\n"
   ]
  },
  {
   "cell_type": "markdown",
   "id": "25dc74e5",
   "metadata": {},
   "source": [
    "# Instructions and Learning Objectives\n",
    "\n",
    "Just like in the previous homework, you will be creating and submitting a data story answering a data science question. You will be required to submit your work in the same format as last time, complete with sections for *Introduction*, *Data*, *Methods*, *Computation*, and *Conclusion*.\n",
    "\n",
    "In this lab, you will:\n",
    "* Create a data story in a notebook exploring the question.\n",
    "* Work with the Time Use dataset from lecture to investigate if the mean and median time spent sleeping differ between those who feel that they purposely sleep less, versus those who do not\"\n",
    "* Identify and remove any missing values from our columns of interest\n",
    "* Visualize and interpret histograms and boxplots that describe the distribution and variation in time slept between groups of respondents"
   ]
  },
  {
   "cell_type": "markdown",
   "id": "2b677ef1",
   "metadata": {},
   "source": [
    "# Due date \n",
    "\n",
    "You will submit your completed Homework 5 on MarkUs by *Fri, Feb 18 2022 at 11:59 PM EST*. We will send an announcement in a couple days when autotesting has been set up."
   ]
  },
  {
   "cell_type": "markdown",
   "id": "2d10a0a3",
   "metadata": {},
   "source": [
    "# GGR: How to submit\n",
    "\n",
    "1. Download your homework to your local computer and save it as `GGR274_Homework_5.ipynb`.\n",
    "2. Log in here: https://markus-ds.teach.cs.toronto.edu.\n",
    "3. Submit your homework to `hw5: Homework 5`."
   ]
  },
  {
   "cell_type": "markdown",
   "id": "c9549322",
   "metadata": {},
   "source": [
    "# Marking Rubric\n",
    "\n",
    "\n",
    "Section     | 0 | 1 | 2 | 3\n",
    "------------|---|---|---|---\n",
    "Introduction|The question is not stated correctly or left blank | The question is stated correctly | NA | NA \n",
    "Data (for each python variable)       |auto test fails | auto test passes | NA | NA \n",
    "Methods (for each part) | No answer | The data extracted is specified or a reasonable rationale is given, but not both | Both the data extracted is specified and a reasonable rationale is given | NA\n",
    "Computation |auto test fails | auto test passes | NA | NA \n",
    "Conclusion (for each part) | No answer | The question is answered but no explanation is given | The question is answered but the explanation is not supported or weakly supported by the data | The question is answered and the explanation is supported by the data "
   ]
  },
  {
   "cell_type": "markdown",
   "id": "e9d60469",
   "metadata": {},
   "source": [
    "# Introduction section\n",
    "\n",
    "This should introduce the question being explored in a sentence. __(1 mark)__"
   ]
  },
  {
   "cell_type": "markdown",
   "id": "5b2f1005",
   "metadata": {},
   "source": [
    "# Data section\n",
    "\n",
    "The Data part of your notebook should read the raw data, extract a `DataFrame` containing the important columns, rename the columns, and filter out missing values.\n",
    "\n",
    "You might find it helpful to name intermediate values in your algorithms. That way you can examine them to make sure they have the type you expect and that they look like what you expect. Very helpful when debugging!\n",
    "\n",
    "## Step 1\n",
    "\n",
    "Create the following pandas `DataFrame`s:\n",
    "\n",
    "+ `time_use_data_raw`: the `DataFrame` created by reading the `gss_tu2016_main_file.csv` file. __(1 mark)__\n",
    "\n",
    "\n",
    "+ `time_use_data`: the `DataFrame` containing the following columns from `time_use_data_raw`: `'CASEID'`, `'dur01'`, `'tcs_130'`. __(1 mark)__ (We test this after any changes are made to it. We do not check the initial value.)"
   ]
  },
  {
   "cell_type": "markdown",
   "id": "9975e34b",
   "metadata": {},
   "source": [
    "In a markdown cell, after you read in the data and select the relevant columns, describe what each of the selected columns represents. Refer to the codebook to help with your description __(1 mark)__"
   ]
  },
  {
   "cell_type": "code",
   "execution_count": 20,
   "id": "caaa7f99-9324-4493-ad5d-4b4e9f98f127",
   "metadata": {},
   "outputs": [],
   "source": [
    "# Step 1 check your work\n",
    "\n",
    "assert time_use_data.shape == (17390, 3)"
   ]
  },
  {
   "cell_type": "markdown",
   "id": "846f3353-2d04-4073-a0fb-9c87a5fbb481",
   "metadata": {},
   "source": [
    "## Step 2\n",
    "\n",
    "`time_use_data` could use more informative column names. \n",
    "\n",
    "Create the following:\n",
    "\n",
    "+ `time_use_data_new_column_names`: a python dictionary mapping the column names from `time_use_data` to the values `'participant_ID'`, `'time_spent_sleeping_minutes'`, `'reduce_time_sleeping'`. __(1 mark)__"
   ]
  },
  {
   "cell_type": "markdown",
   "id": "9d5febb1-591f-4fd7-82b8-4d3ca151628f",
   "metadata": {},
   "source": [
    "+ `time_use_data_clean`: a new `DataFrame` that is a copy of `time_use_data`, but with the columns renamed using `time_use_data_new_column_names`. __(1 mark)__"
   ]
  },
  {
   "cell_type": "code",
   "execution_count": 23,
   "id": "45285158-d59f-40e9-9db5-1422c6c1ae61",
   "metadata": {},
   "outputs": [],
   "source": [
    "# Step 2 check that you have the correct column names\n",
    "\n",
    "expected_columnnames = ['participant_ID', 'time_spent_sleeping_minutes', 'reduce_time_sleeping']\n",
    "\n",
    "assert expected_columnnames == list(time_use_data_clean)"
   ]
  },
  {
   "cell_type": "markdown",
   "id": "78fa6fca-6b04-42d8-be88-856e59d5051a",
   "metadata": {},
   "source": [
    "## Step 3\n",
    "\n",
    "We want to remove values from the columns of `'time_spent_sleeping_minutes'`, and `'reduce_time_sleeping'` that have **missing-data codes**.  Refer to the codebook (`gss_tu2016_codebook.txt`) to look up what values of the columns in `time_use_data_clean` are coded as **missing-data codes**.\n",
    "\n",
    "Create a `DataFrame` named `clean_time_use_data` that removes rows in `time_use_data_clean` where the value of a column has a **missing-data code**. __(1 mark)__"
   ]
  },
  {
   "cell_type": "markdown",
   "id": "004408eb-d8cd-46fa-968a-08d18e195879",
   "metadata": {},
   "source": [
    "We will check `clean_time_use_data` in the autotester. You'll probably want to use a few other variables along the way for the intermediate steps, like naming a list of important columns, but we're not autotesting those. In future homework, we'll ask for even fewer intermediate steps."
   ]
  },
  {
   "cell_type": "code",
   "execution_count": 35,
   "id": "c0be8594-836f-4fac-b390-c2b804614cbd",
   "metadata": {},
   "outputs": [],
   "source": [
    "# Step 3 check that clean_time_use_data has expected number of rows\n",
    "\n",
    "expect_num_rows = 17032\n",
    "\n",
    "assert expect_num_rows == len(clean_time_use_data)"
   ]
  },
  {
   "cell_type": "markdown",
   "id": "37704ea8",
   "metadata": {},
   "source": [
    "# Methods section\n",
    "\n",
    "Start with a Markdown cell describing what you're going to do, which is:\n",
    "\n",
    "1. Convert the units of time spent sleeping (minutes) from minutes to hours. Briefly explain why we might want to do this conversion? __(2 marks)__\n",
    "\n",
    "2. Visualize the distributions of time spent sleeping (hours) using a histogram. What are the main features of the histogram that you would describe to a non-technical audience? __(2 marks)__\n",
    "\n",
    "3. Describe the distribution, including the min, max, mean, 25th and 75th percentile of hours spent sleeping (in a day) by all respondents. What would we expect a valid range of these values to be, that is, what would a reasonable min and max value be? Briefly explain. __(2 marks)__\n",
    "\n",
    "4. Graphically compare the distributions, using side-by-side boxplots, of time spent sleeping (hours) between respondent who feel that they tend to reduce sleep, and those who do not tend to reduce sleep. Briefly explain why side-by-side boxplots is a reasonable choice to compare the distributions? __(2 marks)__"
   ]
  },
  {
   "cell_type": "markdown",
   "id": "e25d573d",
   "metadata": {},
   "source": [
    "# Computation section\n",
    "\n",
    "## Convert minutes to hours\n",
    "\n",
    "Convert the units of the column `'time_spent_sleeping_minutes'` in `clean_time_use_data` from minutes to hours. \n",
    "\n",
    "Create a new column in `clean_time_use_data` named `'time_spent_sleeping_hours'` that is calculated by converting `'time_spent_sleeping_minutes'` from minutes to hours.\n"
   ]
  },
  {
   "cell_type": "code",
   "execution_count": 27,
   "id": "1d37024b",
   "metadata": {},
   "outputs": [
    {
     "data": {
      "text/html": [
       "<div>\n",
       "<style scoped>\n",
       "    .dataframe tbody tr th:only-of-type {\n",
       "        vertical-align: middle;\n",
       "    }\n",
       "\n",
       "    .dataframe tbody tr th {\n",
       "        vertical-align: top;\n",
       "    }\n",
       "\n",
       "    .dataframe thead th {\n",
       "        text-align: right;\n",
       "    }\n",
       "</style>\n",
       "<table border=\"1\" class=\"dataframe\">\n",
       "  <thead>\n",
       "    <tr style=\"text-align: right;\">\n",
       "      <th></th>\n",
       "      <th>participant_ID</th>\n",
       "      <th>time_spent_sleeping_minutes</th>\n",
       "      <th>reduce_time_sleeping</th>\n",
       "      <th>time_spent_sleeping_hours</th>\n",
       "    </tr>\n",
       "  </thead>\n",
       "  <tbody>\n",
       "    <tr>\n",
       "      <th>0</th>\n",
       "      <td>10000</td>\n",
       "      <td>510</td>\n",
       "      <td>2</td>\n",
       "      <td>8.50</td>\n",
       "    </tr>\n",
       "    <tr>\n",
       "      <th>1</th>\n",
       "      <td>10001</td>\n",
       "      <td>420</td>\n",
       "      <td>2</td>\n",
       "      <td>7.00</td>\n",
       "    </tr>\n",
       "    <tr>\n",
       "      <th>2</th>\n",
       "      <td>10002</td>\n",
       "      <td>570</td>\n",
       "      <td>1</td>\n",
       "      <td>9.50</td>\n",
       "    </tr>\n",
       "    <tr>\n",
       "      <th>3</th>\n",
       "      <td>10003</td>\n",
       "      <td>510</td>\n",
       "      <td>2</td>\n",
       "      <td>8.50</td>\n",
       "    </tr>\n",
       "    <tr>\n",
       "      <th>4</th>\n",
       "      <td>10004</td>\n",
       "      <td>525</td>\n",
       "      <td>1</td>\n",
       "      <td>8.75</td>\n",
       "    </tr>\n",
       "  </tbody>\n",
       "</table>\n",
       "</div>"
      ],
      "text/plain": [
       "   participant_ID  time_spent_sleeping_minutes  reduce_time_sleeping  \\\n",
       "0           10000                          510                     2   \n",
       "1           10001                          420                     2   \n",
       "2           10002                          570                     1   \n",
       "3           10003                          510                     2   \n",
       "4           10004                          525                     1   \n",
       "\n",
       "   time_spent_sleeping_hours  \n",
       "0                       8.50  \n",
       "1                       7.00  \n",
       "2                       9.50  \n",
       "3                       8.50  \n",
       "4                       8.75  "
      ]
     },
     "execution_count": 27,
     "metadata": {},
     "output_type": "execute_result"
    }
   ],
   "source": [
    "# check that the new column is as expected\n",
    "\n",
    "clean_time_use_data.head()"
   ]
  },
  {
   "cell_type": "markdown",
   "id": "cadb4dd8",
   "metadata": {},
   "source": [
    "## Quantitative summary of distributions\n",
    "\n",
    "Part of our analysis and data story involves **Exploratory Data Analysis** (EDA), a process in which we iterate between visualizations and numerical analyses to better understand data.  A key part of exploratory data analysis (EDA) are numerical summaries.\n",
    "\n",
    "We're interested in a numerical summary statistics of how many hours respondents sleep. \n",
    "\n",
    "Use the `groupby` function to provide a quantitative summary of the distributions of **only** `'time_spent_sleeping_hours'` by `'reduce_time_sleeping'` using the `describe` function.  `groupby` and `describe` are functions in the `pandas` library.  \n",
    "\n",
    "Name the output `sleep_summary_byreduce`. __(1 mark)__"
   ]
  },
  {
   "cell_type": "code",
   "execution_count": 29,
   "id": "2c698d82",
   "metadata": {
    "scrolled": true
   },
   "outputs": [
    {
     "name": "stdout",
     "output_type": "stream",
     "text": [
      "The type of sleep_summary_byreduce is <class 'pandas.core.frame.DataFrame'>\n"
     ]
    },
    {
     "data": {
      "text/html": [
       "<div>\n",
       "<style scoped>\n",
       "    .dataframe tbody tr th:only-of-type {\n",
       "        vertical-align: middle;\n",
       "    }\n",
       "\n",
       "    .dataframe tbody tr th {\n",
       "        vertical-align: top;\n",
       "    }\n",
       "\n",
       "    .dataframe thead tr th {\n",
       "        text-align: left;\n",
       "    }\n",
       "\n",
       "    .dataframe thead tr:last-of-type th {\n",
       "        text-align: right;\n",
       "    }\n",
       "</style>\n",
       "<table border=\"1\" class=\"dataframe\">\n",
       "  <thead>\n",
       "    <tr>\n",
       "      <th></th>\n",
       "      <th colspan=\"8\" halign=\"left\">time_spent_sleeping_hours</th>\n",
       "    </tr>\n",
       "    <tr>\n",
       "      <th></th>\n",
       "      <th>count</th>\n",
       "      <th>mean</th>\n",
       "      <th>std</th>\n",
       "      <th>min</th>\n",
       "      <th>25%</th>\n",
       "      <th>50%</th>\n",
       "      <th>75%</th>\n",
       "      <th>max</th>\n",
       "    </tr>\n",
       "    <tr>\n",
       "      <th>reduce_time_sleeping</th>\n",
       "      <th></th>\n",
       "      <th></th>\n",
       "      <th></th>\n",
       "      <th></th>\n",
       "      <th></th>\n",
       "      <th></th>\n",
       "      <th></th>\n",
       "      <th></th>\n",
       "    </tr>\n",
       "  </thead>\n",
       "  <tbody>\n",
       "    <tr>\n",
       "      <th>1</th>\n",
       "      <td>6893.0</td>\n",
       "      <td>8.497650</td>\n",
       "      <td>2.246065</td>\n",
       "      <td>0.0</td>\n",
       "      <td>7.250000</td>\n",
       "      <td>8.250000</td>\n",
       "      <td>9.500000</td>\n",
       "      <td>23.833333</td>\n",
       "    </tr>\n",
       "    <tr>\n",
       "      <th>2</th>\n",
       "      <td>10139.0</td>\n",
       "      <td>8.843398</td>\n",
       "      <td>2.175352</td>\n",
       "      <td>0.0</td>\n",
       "      <td>7.583333</td>\n",
       "      <td>8.666667</td>\n",
       "      <td>9.916667</td>\n",
       "      <td>24.000000</td>\n",
       "    </tr>\n",
       "  </tbody>\n",
       "</table>\n",
       "</div>"
      ],
      "text/plain": [
       "                     time_spent_sleeping_hours                           \\\n",
       "                                         count      mean       std  min   \n",
       "reduce_time_sleeping                                                      \n",
       "1                                       6893.0  8.497650  2.246065  0.0   \n",
       "2                                      10139.0  8.843398  2.175352  0.0   \n",
       "\n",
       "                                                               \n",
       "                           25%       50%       75%        max  \n",
       "reduce_time_sleeping                                           \n",
       "1                     7.250000  8.250000  9.500000  23.833333  \n",
       "2                     7.583333  8.666667  9.916667  24.000000  "
      ]
     },
     "execution_count": 29,
     "metadata": {},
     "output_type": "execute_result"
    }
   ],
   "source": [
    "# check the result, which should be a DataFrame.\n",
    "\n",
    "print(f'The type of sleep_summary_byreduce is {type(sleep_summary_byreduce)}')\n",
    "\n",
    "sleep_summary_byreduce"
   ]
  },
  {
   "cell_type": "markdown",
   "id": "2f49d650",
   "metadata": {
    "tags": []
   },
   "source": [
    "## Visualize distributions\n",
    "\n",
    "### Histogram\n",
    "\n",
    "We're interested in understanding the distribution of hours slept by respondent. Visualizing a distribution can help us see how dispersed our data is around our mean and median estimate.\n",
    "\n",
    "Use the `pandas` `hist` function to plot a histogram of `'time_spent_sleeping_hours'`, by `'reduce_time_sleeping'` and name this histogram `time_spent_sleeping_histogram`. \n",
    "\n",
    "The documentation for `pandas.DataFrame.hist` is [here](https://pandas.pydata.org/docs/reference/api/pandas.DataFrame.hist.html).  (HINT: you will need to specify the values for parameters `column` and `by` to produce side-by-side histograms. You should also set parameter `sharey = True`) __(1 mark)__\n",
    "\n",
    "NB: In this section **do not** use `pandas.DataFrame.plot.hist`."
   ]
  },
  {
   "cell_type": "markdown",
   "id": "747ad727",
   "metadata": {},
   "source": [
    "### Compare distributions between groups with boxplot\n",
    "\n",
    "Use `clean_time_use_data` to create side-by-side boxplots of `'time_spent_sleeping_hours'` by `'reduce_time_sleeping'`. Name this plot `hours_spent_sleeping_boxplot`. __(1 mark)__\n",
    "\n",
    "NB: In this section **do not** use `pandas.DataFrame.plot.box`"
   ]
  },
  {
   "cell_type": "markdown",
   "id": "2b240bce",
   "metadata": {},
   "source": [
    "# Conclusion\n",
    "\n",
    "Include cells with your answers to each of these questions:\n",
    " \n",
    "1. In this assignment you have three different comparisons of time spent sleeping for respondents for people that purposely that reduced sleeping time.  Which comparison is the most informative?  Briefly explain. __(3 marks)__\n",
    "\n",
    "\n",
    "2. Is there evidence of a difference in time spent sleeping between those that purposely reduced sleeping time?  Briefly explain. __(3 marks)__"
   ]
  }
 ],
 "metadata": {
  "kernelspec": {
   "display_name": "Python 3 (ipykernel)",
   "language": "python",
   "name": "python3"
  },
  "language_info": {
   "codemirror_mode": {
    "name": "ipython",
    "version": 3
   },
   "file_extension": ".py",
   "mimetype": "text/x-python",
   "name": "python",
   "nbconvert_exporter": "python",
   "pygments_lexer": "ipython3",
   "version": "3.9.9"
  }
 },
 "nbformat": 4,
 "nbformat_minor": 5
}
